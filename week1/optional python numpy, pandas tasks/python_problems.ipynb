{
 "cells": [
  {
   "cell_type": "markdown",
   "metadata": {},
   "source": [
    "# Problem 1\n",
    "\n",
    "There are `n` children standing in a line. Each child is assigned a rating value given in the integer array `ratings`.\n",
    "\n",
    "You are giving candies to these children subjected to the following requirements:\n",
    "- Each child must have at least one candy.\n",
    "- Children with a higher rating get more candies than their neighbors.\n",
    "\n",
    "Return the minimum number of candies you need to have to distribute the candies to the children."
   ]
  },
  {
   "cell_type": "code",
   "execution_count": 1,
   "metadata": {},
   "outputs": [],
   "source": [
    "def candy(ratings: list[int]) -> int:\n",
    "    n=len(ratings)\n",
    "    #first candies\n",
    "    candies=[1]*n\n",
    "    #left to right check\n",
    "    for i in range(1,n):\n",
    "        if ratings[i]>ratings[i-1]:\n",
    "            candies[i]=candies[i-1]+1\n",
    "    #right to left check\n",
    "    for i in range(n-2,-1,-1):\n",
    "        if ratings[i]>ratings[i+1]:\n",
    "            candies[i]=max(candies[i],candies[i+1]+1)\n",
    "    return sum(candies)"
   ]
  },
  {
   "cell_type": "code",
   "execution_count": 2,
   "metadata": {},
   "outputs": [],
   "source": [
    "assert candy([1,0,2]) == 5 # You can allocate to the first, second and third child with 2, 1, 2 candies respectively.\n",
    "assert candy([1,2,2]) == 4 # You can allocate to the first, second and third child with 1, 2, 1 candies respectively. The third child gets 1 candy because it satisfies the above two conditions."
   ]
  },
  {
   "cell_type": "markdown",
   "metadata": {},
   "source": [
    "# Problem 2\n",
    "\n",
    "Consider a money system consisting of `n` coins. Each coin has a positive integer value. Your task is to calculate the number of distinct ways you can produce a money sum `x` using the available coins.\n",
    "\n",
    "For example, if the coins are \\{2,3,5\\} and the desired sum is 9, there are 8 ways:\n",
    "- 2+2+5\n",
    "- 2+5+2\n",
    "- 5+2+2\n",
    "- 3+3+3\n",
    "- 2+2+2+3\n",
    "- 2+2+3+2\n",
    "- 2+3+2+2\n",
    "- 3+2+2+2"
   ]
  },
  {
   "cell_type": "code",
   "execution_count": 3,
   "metadata": {},
   "outputs": [],
   "source": [
    "def ways(n: int, x: int, coins: list[int]) -> int:\n",
    "    #ways to calculate with each previous coin\n",
    "    if x<0:return 0\n",
    "    if x==0:return 1\n",
    "    return sum([ways(n,x-i,coins) for i in coins])"
   ]
  },
  {
   "cell_type": "code",
   "execution_count": 4,
   "metadata": {},
   "outputs": [],
   "source": [
    "assert ways(3, 9, [2,3,5]) == 8"
   ]
  },
  {
   "cell_type": "markdown",
   "metadata": {},
   "source": [
    "# Problem 3\n",
    "Given a string, your task is to reorder its letters in such a way that it becomes a palindrome.\n",
    "A palindrome is a word that reads the same backward as forward. e.g. \"madam\"\n",
    "\n",
    "Return a palindrome consisting of the characters of the original string. You may print any valid solution. If there are no solutions, return \"NO SOLUTION\"."
   ]
  },
  {
   "cell_type": "code",
   "execution_count": 5,
   "metadata": {},
   "outputs": [],
   "source": [
    "def palindromize(s: str) -> str:\n",
    "    n=len(s)\n",
    "    odd_nums=0\n",
    "    chars={}\n",
    "    #count chars and odd chars in s\n",
    "    for c in s:\n",
    "        count=s.count(c)\n",
    "        chars[c]=count\n",
    "        if count%2==1:odd_nums+=1\n",
    "    #size and odd chars check\n",
    "    if n%2==0 and odd_nums>0:return \"NO SOLUTION\"\n",
    "    if n%2==1 and odd_nums>1:return \"NO SOLUTION\"\n",
    "    #create palindrome string\n",
    "    half=\"\"\n",
    "    center=\"\"\n",
    "    for k,v in chars.items():\n",
    "        if v%2==1:center=k*v\n",
    "        else:\n",
    "            half+=k*(v//2)\n",
    "    return half+center+half[::-1]"
   ]
  },
  {
   "cell_type": "code",
   "execution_count": 6,
   "metadata": {},
   "outputs": [],
   "source": [
    "assert palindromize('AAAACACBA') == 'AAACBCAAA'\n",
    "# assert palindromize('AAAACACBA') == 'AACABACAA' Different from my answer."
   ]
  }
 ],
 "metadata": {
  "kernelspec": {
   "display_name": "Python 3",
   "language": "python",
   "name": "python3"
  },
  "language_info": {
   "codemirror_mode": {
    "name": "ipython",
    "version": 3
   },
   "file_extension": ".py",
   "mimetype": "text/x-python",
   "name": "python",
   "nbconvert_exporter": "python",
   "pygments_lexer": "ipython3",
   "version": "3.13.5"
  }
 },
 "nbformat": 4,
 "nbformat_minor": 2
}
